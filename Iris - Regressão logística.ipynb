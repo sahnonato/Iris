{
 "cells": [
  {
   "cell_type": "code",
   "execution_count": 1,
   "id": "6e63edae",
   "metadata": {},
   "outputs": [],
   "source": [
    "import pandas as pd \n",
    "import seaborn as sns \n",
    "import matplotlib.pyplot as plt \n",
    "import statsmodels.api as sm \n",
    "import numpy as np \n",
    "from scipy import stats\n",
    "from statsmodels.discrete.discrete_model import MNLogit\n",
    "from statsmodels.iolib.summary2 import summary_col\n",
    "import plotly.graph_objs as go\n",
    "import statsmodels.formula.api as smf\n",
    "from ucimlrepo import fetch_ucirepo\n",
    "\n",
    "\n",
    "\n",
    "import warnings\n",
    "warnings.filterwarnings('ignore')"
   ]
  },
  {
   "cell_type": "code",
   "execution_count": 2,
   "id": "a843576d",
   "metadata": {},
   "outputs": [],
   "source": [
    "# fetch dataset \n",
    "iris = fetch_ucirepo(id=53)\n",
    "\n",
    "# data (as pandas dataframes) \n",
    "df = iris.data.original"
   ]
  },
  {
   "cell_type": "code",
   "execution_count": 3,
   "id": "2aaac7c8",
   "metadata": {},
   "outputs": [],
   "source": [
    "#  Features\n",
    "x = iris.data.features\n",
    "X = sm.add_constant(x)"
   ]
  },
  {
   "cell_type": "code",
   "execution_count": 4,
   "id": "6c89c757",
   "metadata": {},
   "outputs": [],
   "source": [
    "#  Targets\n",
    "Y = iris.data.targets\n",
    "y = pd.get_dummies(Y)"
   ]
  },
  {
   "cell_type": "code",
   "execution_count": 5,
   "id": "14afae79",
   "metadata": {},
   "outputs": [
    {
     "name": "stdout",
     "output_type": "stream",
     "text": [
      "Warning: Maximum number of iterations has been exceeded.\n",
      "         Current function value: 14.124238\n",
      "         Iterations: 35\n"
     ]
    },
    {
     "data": {
      "text/html": [
       "<table class=\"simpletable\">\n",
       "<caption>MNLogit Regression Results</caption>\n",
       "<tr>\n",
       "  <th>Dep. Variable:</th>           <td>y</td>        <th>  No. Observations:  </th>  <td>   150</td> \n",
       "</tr>\n",
       "<tr>\n",
       "  <th>Model:</th>                <td>MNLogit</td>     <th>  Df Residuals:      </th>  <td>   140</td> \n",
       "</tr>\n",
       "<tr>\n",
       "  <th>Method:</th>                 <td>MLE</td>       <th>  Df Model:          </th>  <td>     8</td> \n",
       "</tr>\n",
       "<tr>\n",
       "  <th>Date:</th>            <td>Mon, 18 Dec 2023</td> <th>  Pseudo R-squ.:     </th>  <td>-11.86</td> \n",
       "</tr>\n",
       "<tr>\n",
       "  <th>Time:</th>                <td>22:07:06</td>     <th>  Log-Likelihood:    </th> <td> -2118.6</td>\n",
       "</tr>\n",
       "<tr>\n",
       "  <th>converged:</th>             <td>False</td>      <th>  LL-Null:           </th> <td> -164.79</td>\n",
       "</tr>\n",
       "<tr>\n",
       "  <th>Covariance Type:</th>     <td>nonrobust</td>    <th>  LLR p-value:       </th>  <td> 1.000</td> \n",
       "</tr>\n",
       "</table>\n",
       "<table class=\"simpletable\">\n",
       "<tr>\n",
       "  <th>y=class_Iris-versicolor</th>    <th>coef</th>     <th>std err</th>      <th>z</th>      <th>P>|z|</th>  <th>[0.025</th>    <th>0.975]</th>  \n",
       "</tr>\n",
       "<tr>\n",
       "  <th>const</th>                   <td>   -1.6397</td> <td> 3.04e+04</td> <td>-5.39e-05</td> <td> 1.000</td> <td>-5.97e+04</td> <td> 5.97e+04</td>\n",
       "</tr>\n",
       "<tr>\n",
       "  <th>sepal length</th>            <td>    3.9005</td> <td> 9084.385</td> <td>    0.000</td> <td> 1.000</td> <td>-1.78e+04</td> <td> 1.78e+04</td>\n",
       "</tr>\n",
       "<tr>\n",
       "  <th>sepal width</th>             <td>  -10.3144</td> <td> 9769.912</td> <td>   -0.001</td> <td> 0.999</td> <td>-1.92e+04</td> <td> 1.91e+04</td>\n",
       "</tr>\n",
       "<tr>\n",
       "  <th>petal length</th>            <td>   -4.4538</td> <td> 9183.560</td> <td>   -0.000</td> <td> 1.000</td> <td> -1.8e+04</td> <td>  1.8e+04</td>\n",
       "</tr>\n",
       "<tr>\n",
       "  <th>petal width</th>             <td>    1.3109</td> <td> 2.39e+04</td> <td> 5.48e-05</td> <td> 1.000</td> <td>-4.69e+04</td> <td> 4.69e+04</td>\n",
       "</tr>\n",
       "<tr>\n",
       "  <th>y=class_Iris-virginica</th>    <th>coef</th>     <th>std err</th>      <th>z</th>      <th>P>|z|</th>  <th>[0.025</th>    <th>0.975]</th>  \n",
       "</tr>\n",
       "<tr>\n",
       "  <th>const</th>                  <td>  -44.2775</td> <td> 2182.163</td> <td>   -0.020</td> <td> 0.984</td> <td>-4321.239</td> <td> 4232.684</td>\n",
       "</tr>\n",
       "<tr>\n",
       "  <th>sepal length</th>           <td>    1.4353</td> <td>  193.071</td> <td>    0.007</td> <td> 0.994</td> <td> -376.978</td> <td>  379.848</td>\n",
       "</tr>\n",
       "<tr>\n",
       "  <th>sepal width</th>            <td>  -16.9953</td> <td>  432.464</td> <td>   -0.039</td> <td> 0.969</td> <td> -864.608</td> <td>  830.618</td>\n",
       "</tr>\n",
       "<tr>\n",
       "  <th>petal length</th>           <td>    4.9756</td> <td>  239.562</td> <td>    0.021</td> <td> 0.983</td> <td> -464.557</td> <td>  474.508</td>\n",
       "</tr>\n",
       "<tr>\n",
       "  <th>petal width</th>            <td>   19.5970</td> <td>  251.658</td> <td>    0.078</td> <td> 0.938</td> <td> -473.643</td> <td>  512.837</td>\n",
       "</tr>\n",
       "</table>"
      ],
      "text/plain": [
       "<class 'statsmodels.iolib.summary.Summary'>\n",
       "\"\"\"\n",
       "                          MNLogit Regression Results                          \n",
       "==============================================================================\n",
       "Dep. Variable:                      y   No. Observations:                  150\n",
       "Model:                        MNLogit   Df Residuals:                      140\n",
       "Method:                           MLE   Df Model:                            8\n",
       "Date:                Mon, 18 Dec 2023   Pseudo R-squ.:                  -11.86\n",
       "Time:                        22:07:06   Log-Likelihood:                -2118.6\n",
       "converged:                      False   LL-Null:                       -164.79\n",
       "Covariance Type:            nonrobust   LLR p-value:                     1.000\n",
       "==========================================================================================\n",
       "y=class_Iris-versicolor       coef    std err          z      P>|z|      [0.025      0.975]\n",
       "-------------------------------------------------------------------------------------------\n",
       "const                      -1.6397   3.04e+04  -5.39e-05      1.000   -5.97e+04    5.97e+04\n",
       "sepal length                3.9005   9084.385      0.000      1.000   -1.78e+04    1.78e+04\n",
       "sepal width               -10.3144   9769.912     -0.001      0.999   -1.92e+04    1.91e+04\n",
       "petal length               -4.4538   9183.560     -0.000      1.000    -1.8e+04     1.8e+04\n",
       "petal width                 1.3109   2.39e+04   5.48e-05      1.000   -4.69e+04    4.69e+04\n",
       "-------------------------------------------------------------------------------------------\n",
       "y=class_Iris-virginica       coef    std err          z      P>|z|      [0.025      0.975]\n",
       "------------------------------------------------------------------------------------------\n",
       "const                    -44.2775   2182.163     -0.020      0.984   -4321.239    4232.684\n",
       "sepal length               1.4353    193.071      0.007      0.994    -376.978     379.848\n",
       "sepal width              -16.9953    432.464     -0.039      0.969    -864.608     830.618\n",
       "petal length               4.9756    239.562      0.021      0.983    -464.557     474.508\n",
       "petal width               19.5970    251.658      0.078      0.938    -473.643     512.837\n",
       "==========================================================================================\n",
       "\"\"\""
      ]
     },
     "execution_count": 5,
     "metadata": {},
     "output_type": "execute_result"
    }
   ],
   "source": [
    "#  Regressão multinomial\n",
    "model_0 = MNLogit(endog=y, exog=X).fit()\n",
    "\n",
    "#Parâmetros do modelo\n",
    "model_0.summary()\n"
   ]
  },
  {
   "cell_type": "code",
   "execution_count": 6,
   "id": "c8a979f6",
   "metadata": {},
   "outputs": [],
   "source": [
    "#  I need to understand if my β's are relevant statistically\n",
    "\n",
    "def Qui2(model):\n",
    "    maximum = model.llf\n",
    "    minimum = model.llnull\n",
    "    qui2 = -2*(minimum - maximum)\n",
    "    pvalue = stats.distributions.chi2.sf(qui2,1)\n",
    "    df = pd.DataFrame({'Qui quadrado':[qui2],\n",
    "                       'pvalue':[pvalue]})\n",
    "    return df\n"
   ]
  },
  {
   "cell_type": "code",
   "execution_count": 7,
   "id": "b483dff0",
   "metadata": {},
   "outputs": [
    {
     "data": {
      "text/html": [
       "<div>\n",
       "<style scoped>\n",
       "    .dataframe tbody tr th:only-of-type {\n",
       "        vertical-align: middle;\n",
       "    }\n",
       "\n",
       "    .dataframe tbody tr th {\n",
       "        vertical-align: top;\n",
       "    }\n",
       "\n",
       "    .dataframe thead th {\n",
       "        text-align: right;\n",
       "    }\n",
       "</style>\n",
       "<table border=\"1\" class=\"dataframe\">\n",
       "  <thead>\n",
       "    <tr style=\"text-align: right;\">\n",
       "      <th></th>\n",
       "      <th>Qui quadrado</th>\n",
       "      <th>pvalue</th>\n",
       "    </tr>\n",
       "  </thead>\n",
       "  <tbody>\n",
       "    <tr>\n",
       "      <th>0</th>\n",
       "      <td>-3907.687807</td>\n",
       "      <td>1.0</td>\n",
       "    </tr>\n",
       "  </tbody>\n",
       "</table>\n",
       "</div>"
      ],
      "text/plain": [
       "   Qui quadrado  pvalue\n",
       "0  -3907.687807     1.0"
      ]
     },
     "execution_count": 7,
     "metadata": {},
     "output_type": "execute_result"
    }
   ],
   "source": [
    "pvalues = Qui2(model_0)\n",
    "pvalues\n",
    "\n",
    "#  Model has not passed"
   ]
  },
  {
   "cell_type": "code",
   "execution_count": 8,
   "id": "34b70d69",
   "metadata": {},
   "outputs": [],
   "source": [
    "X.drop([\"sepal length\"], axis = 1, inplace = True)"
   ]
  },
  {
   "cell_type": "code",
   "execution_count": 9,
   "id": "5ed2355d",
   "metadata": {},
   "outputs": [
    {
     "name": "stdout",
     "output_type": "stream",
     "text": [
      "Warning: Maximum number of iterations has been exceeded.\n",
      "         Current function value: 0.044220\n",
      "         Iterations: 35\n"
     ]
    },
    {
     "data": {
      "text/html": [
       "<table class=\"simpletable\">\n",
       "<caption>MNLogit Regression Results</caption>\n",
       "<tr>\n",
       "  <th>Dep. Variable:</th>           <td>y</td>        <th>  No. Observations:  </th>  <td>   150</td>  \n",
       "</tr>\n",
       "<tr>\n",
       "  <th>Model:</th>                <td>MNLogit</td>     <th>  Df Residuals:      </th>  <td>   142</td>  \n",
       "</tr>\n",
       "<tr>\n",
       "  <th>Method:</th>                 <td>MLE</td>       <th>  Df Model:          </th>  <td>     6</td>  \n",
       "</tr>\n",
       "<tr>\n",
       "  <th>Date:</th>            <td>Mon, 18 Dec 2023</td> <th>  Pseudo R-squ.:     </th>  <td>0.9597</td>  \n",
       "</tr>\n",
       "<tr>\n",
       "  <th>Time:</th>                <td>22:07:06</td>     <th>  Log-Likelihood:    </th> <td> -6.6330</td> \n",
       "</tr>\n",
       "<tr>\n",
       "  <th>converged:</th>             <td>False</td>      <th>  LL-Null:           </th> <td> -164.79</td> \n",
       "</tr>\n",
       "<tr>\n",
       "  <th>Covariance Type:</th>     <td>nonrobust</td>    <th>  LLR p-value:       </th> <td>2.601e-65</td>\n",
       "</tr>\n",
       "</table>\n",
       "<table class=\"simpletable\">\n",
       "<tr>\n",
       "  <th>y=class_Iris-versicolor</th>    <th>coef</th>     <th>std err</th>      <th>z</th>      <th>P>|z|</th>  <th>[0.025</th>    <th>0.975]</th>  \n",
       "</tr>\n",
       "<tr>\n",
       "  <th>const</th>                   <td>  -28.2552</td> <td> 4632.237</td> <td>   -0.006</td> <td> 0.995</td> <td>-9107.274</td> <td> 9050.763</td>\n",
       "</tr>\n",
       "<tr>\n",
       "  <th>sepal width</th>             <td>   -2.1410</td> <td> 1010.390</td> <td>   -0.002</td> <td> 0.998</td> <td>-1982.470</td> <td> 1978.188</td>\n",
       "</tr>\n",
       "<tr>\n",
       "  <th>petal length</th>            <td>    7.9724</td> <td>  737.835</td> <td>    0.011</td> <td> 0.991</td> <td>-1438.158</td> <td> 1454.103</td>\n",
       "</tr>\n",
       "<tr>\n",
       "  <th>petal width</th>             <td>   20.5692</td> <td> 1718.331</td> <td>    0.012</td> <td> 0.990</td> <td>-3347.297</td> <td> 3388.436</td>\n",
       "</tr>\n",
       "<tr>\n",
       "  <th>y=class_Iris-virginica</th>    <th>coef</th>     <th>std err</th>      <th>z</th>      <th>P>|z|</th>  <th>[0.025</th>    <th>0.975]</th>  \n",
       "</tr>\n",
       "<tr>\n",
       "  <th>const</th>                  <td>  -78.7821</td> <td> 4632.300</td> <td>   -0.017</td> <td> 0.986</td> <td>-9157.922</td> <td> 9000.358</td>\n",
       "</tr>\n",
       "<tr>\n",
       "  <th>sepal width</th>            <td>  -10.5170</td> <td> 1010.402</td> <td>   -0.010</td> <td> 0.992</td> <td>-1990.868</td> <td> 1969.834</td>\n",
       "</tr>\n",
       "<tr>\n",
       "  <th>petal length</th>           <td>   15.8469</td> <td>  737.845</td> <td>    0.021</td> <td> 0.983</td> <td>-1430.304</td> <td> 1461.997</td>\n",
       "</tr>\n",
       "<tr>\n",
       "  <th>petal width</th>            <td>   41.9988</td> <td> 1718.364</td> <td>    0.024</td> <td> 0.981</td> <td>-3325.933</td> <td> 3409.931</td>\n",
       "</tr>\n",
       "</table>"
      ],
      "text/plain": [
       "<class 'statsmodels.iolib.summary.Summary'>\n",
       "\"\"\"\n",
       "                          MNLogit Regression Results                          \n",
       "==============================================================================\n",
       "Dep. Variable:                      y   No. Observations:                  150\n",
       "Model:                        MNLogit   Df Residuals:                      142\n",
       "Method:                           MLE   Df Model:                            6\n",
       "Date:                Mon, 18 Dec 2023   Pseudo R-squ.:                  0.9597\n",
       "Time:                        22:07:06   Log-Likelihood:                -6.6330\n",
       "converged:                      False   LL-Null:                       -164.79\n",
       "Covariance Type:            nonrobust   LLR p-value:                 2.601e-65\n",
       "==========================================================================================\n",
       "y=class_Iris-versicolor       coef    std err          z      P>|z|      [0.025      0.975]\n",
       "-------------------------------------------------------------------------------------------\n",
       "const                     -28.2552   4632.237     -0.006      0.995   -9107.274    9050.763\n",
       "sepal width                -2.1410   1010.390     -0.002      0.998   -1982.470    1978.188\n",
       "petal length                7.9724    737.835      0.011      0.991   -1438.158    1454.103\n",
       "petal width                20.5692   1718.331      0.012      0.990   -3347.297    3388.436\n",
       "-------------------------------------------------------------------------------------------\n",
       "y=class_Iris-virginica       coef    std err          z      P>|z|      [0.025      0.975]\n",
       "------------------------------------------------------------------------------------------\n",
       "const                    -78.7821   4632.300     -0.017      0.986   -9157.922    9000.358\n",
       "sepal width              -10.5170   1010.402     -0.010      0.992   -1990.868    1969.834\n",
       "petal length              15.8469    737.845      0.021      0.983   -1430.304    1461.997\n",
       "petal width               41.9988   1718.364      0.024      0.981   -3325.933    3409.931\n",
       "==========================================================================================\n",
       "\"\"\""
      ]
     },
     "execution_count": 9,
     "metadata": {},
     "output_type": "execute_result"
    }
   ],
   "source": [
    "#  Regressão multinomial\n",
    "model_1 = MNLogit(endog=y, exog=X).fit()\n",
    "\n",
    "#Parâmetros do modelo\n",
    "model_1.summary()\n"
   ]
  },
  {
   "cell_type": "code",
   "execution_count": 10,
   "id": "b48305e4",
   "metadata": {},
   "outputs": [
    {
     "data": {
      "text/html": [
       "<div>\n",
       "<style scoped>\n",
       "    .dataframe tbody tr th:only-of-type {\n",
       "        vertical-align: middle;\n",
       "    }\n",
       "\n",
       "    .dataframe tbody tr th {\n",
       "        vertical-align: top;\n",
       "    }\n",
       "\n",
       "    .dataframe thead th {\n",
       "        text-align: right;\n",
       "    }\n",
       "</style>\n",
       "<table border=\"1\" class=\"dataframe\">\n",
       "  <thead>\n",
       "    <tr style=\"text-align: right;\">\n",
       "      <th></th>\n",
       "      <th>Qui quadrado</th>\n",
       "      <th>pvalue</th>\n",
       "    </tr>\n",
       "  </thead>\n",
       "  <tbody>\n",
       "    <tr>\n",
       "      <th>0</th>\n",
       "      <td>316.317761</td>\n",
       "      <td>9.183051e-71</td>\n",
       "    </tr>\n",
       "  </tbody>\n",
       "</table>\n",
       "</div>"
      ],
      "text/plain": [
       "   Qui quadrado        pvalue\n",
       "0    316.317761  9.183051e-71"
      ]
     },
     "execution_count": 10,
     "metadata": {},
     "output_type": "execute_result"
    }
   ],
   "source": [
    "pvalues1 = Qui2(model_1)\n",
    "pvalues1\n",
    "#  Model passes"
   ]
  },
  {
   "cell_type": "code",
   "execution_count": 11,
   "id": "82b28dc9",
   "metadata": {},
   "outputs": [],
   "source": [
    "X.drop([\"sepal width\"], axis = 1, inplace = True)"
   ]
  },
  {
   "cell_type": "code",
   "execution_count": 12,
   "id": "a95baa5b",
   "metadata": {},
   "outputs": [
    {
     "name": "stdout",
     "output_type": "stream",
     "text": [
      "Warning: Maximum number of iterations has been exceeded.\n",
      "         Current function value: 0.068545\n",
      "         Iterations: 35\n"
     ]
    },
    {
     "data": {
      "text/html": [
       "<table class=\"simpletable\">\n",
       "<caption>MNLogit Regression Results</caption>\n",
       "<tr>\n",
       "  <th>Dep. Variable:</th>           <td>y</td>        <th>  No. Observations:  </th>  <td>   150</td>  \n",
       "</tr>\n",
       "<tr>\n",
       "  <th>Model:</th>                <td>MNLogit</td>     <th>  Df Residuals:      </th>  <td>   144</td>  \n",
       "</tr>\n",
       "<tr>\n",
       "  <th>Method:</th>                 <td>MLE</td>       <th>  Df Model:          </th>  <td>     4</td>  \n",
       "</tr>\n",
       "<tr>\n",
       "  <th>Date:</th>            <td>Mon, 18 Dec 2023</td> <th>  Pseudo R-squ.:     </th>  <td>0.9376</td>  \n",
       "</tr>\n",
       "<tr>\n",
       "  <th>Time:</th>                <td>22:07:06</td>     <th>  Log-Likelihood:    </th> <td> -10.282</td> \n",
       "</tr>\n",
       "<tr>\n",
       "  <th>converged:</th>             <td>False</td>      <th>  LL-Null:           </th> <td> -164.79</td> \n",
       "</tr>\n",
       "<tr>\n",
       "  <th>Covariance Type:</th>     <td>nonrobust</td>    <th>  LLR p-value:       </th> <td>1.227e-65</td>\n",
       "</tr>\n",
       "</table>\n",
       "<table class=\"simpletable\">\n",
       "<tr>\n",
       "  <th>y=class_Iris-versicolor</th>    <th>coef</th>     <th>std err</th>      <th>z</th>      <th>P>|z|</th>  <th>[0.025</th>    <th>0.975]</th>  \n",
       "</tr>\n",
       "<tr>\n",
       "  <th>const</th>                   <td>  -73.2805</td> <td> 1.47e+05</td> <td>   -0.000</td> <td> 1.000</td> <td>-2.88e+05</td> <td> 2.88e+05</td>\n",
       "</tr>\n",
       "<tr>\n",
       "  <th>petal length</th>            <td>   20.5902</td> <td> 1.32e+05</td> <td>    0.000</td> <td> 1.000</td> <td>-2.58e+05</td> <td> 2.58e+05</td>\n",
       "</tr>\n",
       "<tr>\n",
       "  <th>petal width</th>             <td>   29.5259</td> <td> 2.73e+05</td> <td>    0.000</td> <td> 1.000</td> <td>-5.36e+05</td> <td> 5.36e+05</td>\n",
       "</tr>\n",
       "<tr>\n",
       "  <th>y=class_Iris-virginica</th>    <th>coef</th>     <th>std err</th>      <th>z</th>      <th>P>|z|</th>  <th>[0.025</th>    <th>0.975]</th>  \n",
       "</tr>\n",
       "<tr>\n",
       "  <th>const</th>                  <td> -118.5529</td> <td> 1.47e+05</td> <td>   -0.001</td> <td> 0.999</td> <td>-2.88e+05</td> <td> 2.88e+05</td>\n",
       "</tr>\n",
       "<tr>\n",
       "  <th>petal length</th>           <td>   26.3447</td> <td> 1.32e+05</td> <td>    0.000</td> <td> 1.000</td> <td>-2.58e+05</td> <td> 2.58e+05</td>\n",
       "</tr>\n",
       "<tr>\n",
       "  <th>petal width</th>            <td>   39.9726</td> <td> 2.73e+05</td> <td>    0.000</td> <td> 1.000</td> <td>-5.36e+05</td> <td> 5.36e+05</td>\n",
       "</tr>\n",
       "</table>"
      ],
      "text/plain": [
       "<class 'statsmodels.iolib.summary.Summary'>\n",
       "\"\"\"\n",
       "                          MNLogit Regression Results                          \n",
       "==============================================================================\n",
       "Dep. Variable:                      y   No. Observations:                  150\n",
       "Model:                        MNLogit   Df Residuals:                      144\n",
       "Method:                           MLE   Df Model:                            4\n",
       "Date:                Mon, 18 Dec 2023   Pseudo R-squ.:                  0.9376\n",
       "Time:                        22:07:06   Log-Likelihood:                -10.282\n",
       "converged:                      False   LL-Null:                       -164.79\n",
       "Covariance Type:            nonrobust   LLR p-value:                 1.227e-65\n",
       "==========================================================================================\n",
       "y=class_Iris-versicolor       coef    std err          z      P>|z|      [0.025      0.975]\n",
       "-------------------------------------------------------------------------------------------\n",
       "const                     -73.2805   1.47e+05     -0.000      1.000   -2.88e+05    2.88e+05\n",
       "petal length               20.5902   1.32e+05      0.000      1.000   -2.58e+05    2.58e+05\n",
       "petal width                29.5259   2.73e+05      0.000      1.000   -5.36e+05    5.36e+05\n",
       "-------------------------------------------------------------------------------------------\n",
       "y=class_Iris-virginica       coef    std err          z      P>|z|      [0.025      0.975]\n",
       "------------------------------------------------------------------------------------------\n",
       "const                   -118.5529   1.47e+05     -0.001      0.999   -2.88e+05    2.88e+05\n",
       "petal length              26.3447   1.32e+05      0.000      1.000   -2.58e+05    2.58e+05\n",
       "petal width               39.9726   2.73e+05      0.000      1.000   -5.36e+05    5.36e+05\n",
       "==========================================================================================\n",
       "\"\"\""
      ]
     },
     "execution_count": 12,
     "metadata": {},
     "output_type": "execute_result"
    }
   ],
   "source": [
    "#  Regressão multinomial\n",
    "model_2 = MNLogit(endog=y, exog=X).fit()\n",
    "\n",
    "#Parâmetros do modelo\n",
    "model_2.summary()\n"
   ]
  },
  {
   "cell_type": "code",
   "execution_count": 13,
   "id": "c6b26f8a",
   "metadata": {},
   "outputs": [
    {
     "data": {
      "text/html": [
       "<div>\n",
       "<style scoped>\n",
       "    .dataframe tbody tr th:only-of-type {\n",
       "        vertical-align: middle;\n",
       "    }\n",
       "\n",
       "    .dataframe tbody tr th {\n",
       "        vertical-align: top;\n",
       "    }\n",
       "\n",
       "    .dataframe thead th {\n",
       "        text-align: right;\n",
       "    }\n",
       "</style>\n",
       "<table border=\"1\" class=\"dataframe\">\n",
       "  <thead>\n",
       "    <tr style=\"text-align: right;\">\n",
       "      <th></th>\n",
       "      <th>Qui quadrado</th>\n",
       "      <th>pvalue</th>\n",
       "    </tr>\n",
       "  </thead>\n",
       "  <tbody>\n",
       "    <tr>\n",
       "      <th>0</th>\n",
       "      <td>309.020178</td>\n",
       "      <td>3.570042e-69</td>\n",
       "    </tr>\n",
       "  </tbody>\n",
       "</table>\n",
       "</div>"
      ],
      "text/plain": [
       "   Qui quadrado        pvalue\n",
       "0    309.020178  3.570042e-69"
      ]
     },
     "execution_count": 13,
     "metadata": {},
     "output_type": "execute_result"
    }
   ],
   "source": [
    "pvalues2 = Qui2(model_2)\n",
    "pvalues2\n",
    "#  Model passes"
   ]
  }
 ],
 "metadata": {
  "kernelspec": {
   "display_name": "Python 3 (ipykernel)",
   "language": "python",
   "name": "python3"
  },
  "language_info": {
   "codemirror_mode": {
    "name": "ipython",
    "version": 3
   },
   "file_extension": ".py",
   "mimetype": "text/x-python",
   "name": "python",
   "nbconvert_exporter": "python",
   "pygments_lexer": "ipython3",
   "version": "3.9.12"
  }
 },
 "nbformat": 4,
 "nbformat_minor": 5
}
